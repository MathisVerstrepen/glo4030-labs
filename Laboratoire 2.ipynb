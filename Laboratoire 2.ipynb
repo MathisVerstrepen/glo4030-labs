{
 "cells": [
  {
   "cell_type": "markdown",
   "metadata": {},
   "source": [
    "### Rappel Google Colab\n",
    "\n",
    "Tout d'abord, sélectionnez l'option GPU de Colab avec *Edit > Notebook settings* et sélectionner GPU comme Hardware accelerator. \n",
    "Installer ensuite deeplib avec la commande suivante:"
   ]
  },
  {
   "cell_type": "code",
   "execution_count": 95,
   "metadata": {},
   "outputs": [
    {
     "name": "stdout",
     "output_type": "stream",
     "text": [
      "Collecting git+https://github.com/ulaval-damas/glo4030-labs.git\n",
      "  Cloning https://github.com/ulaval-damas/glo4030-labs.git to /tmp/pip-req-build-lhabuz0n\n",
      "  Running command git clone --filter=blob:none --quiet https://github.com/ulaval-damas/glo4030-labs.git /tmp/pip-req-build-lhabuz0n\n",
      "  Resolved https://github.com/ulaval-damas/glo4030-labs.git to commit 77a2594181ee3c89005c2bc0669ee3007f565568\n",
      "  Preparing metadata (setup.py) ... \u001b[?25ldone\n",
      "\u001b[?25hRequirement already satisfied: torch in /usr/local/lib/python3.10/dist-packages (from deeplib==0.1) (2.1.0+cu118)\n",
      "Requirement already satisfied: torchvision in /usr/local/lib/python3.10/dist-packages (from deeplib==0.1) (0.16.0+cu118)\n",
      "Requirement already satisfied: pandas in /usr/local/lib/python3.10/dist-packages (from deeplib==0.1) (2.2.3)\n",
      "Requirement already satisfied: ipykernel in /usr/local/lib/python3.10/dist-packages (from deeplib==0.1) (6.26.0)\n",
      "Requirement already satisfied: matplotlib in /usr/local/lib/python3.10/dist-packages (from deeplib==0.1) (3.10.0)\n",
      "Requirement already satisfied: scikit-learn in /usr/local/lib/python3.10/dist-packages (from deeplib==0.1) (1.6.1)\n",
      "Requirement already satisfied: graphviz in /usr/local/lib/python3.10/dist-packages (from deeplib==0.1) (0.20.3)\n",
      "Requirement already satisfied: ipython in /usr/local/lib/python3.10/dist-packages (from deeplib==0.1) (8.17.2)\n",
      "Requirement already satisfied: gensim in /usr/local/lib/python3.10/dist-packages (from deeplib==0.1) (4.3.3)\n",
      "Requirement already satisfied: numpy in /usr/local/lib/python3.10/dist-packages (from deeplib==0.1) (1.24.1)\n",
      "Requirement already satisfied: scipy in /usr/local/lib/python3.10/dist-packages (from deeplib==0.1) (1.13.1)\n",
      "Requirement already satisfied: Pillow in /usr/local/lib/python3.10/dist-packages (from deeplib==0.1) (9.3.0)\n",
      "Requirement already satisfied: poutyne in /usr/local/lib/python3.10/dist-packages (from deeplib==0.1) (1.17.3)\n",
      "Requirement already satisfied: einops in /usr/local/lib/python3.10/dist-packages (from deeplib==0.1) (0.8.0)\n",
      "Requirement already satisfied: transformers[torch] in /usr/local/lib/python3.10/dist-packages (from deeplib==0.1) (4.48.1)\n",
      "Requirement already satisfied: smart-open>=1.8.1 in /usr/local/lib/python3.10/dist-packages (from gensim->deeplib==0.1) (7.1.0)\n",
      "Requirement already satisfied: comm>=0.1.1 in /usr/local/lib/python3.10/dist-packages (from ipykernel->deeplib==0.1) (0.2.0)\n",
      "Requirement already satisfied: debugpy>=1.6.5 in /usr/local/lib/python3.10/dist-packages (from ipykernel->deeplib==0.1) (1.8.0)\n",
      "Requirement already satisfied: jupyter-client>=6.1.12 in /usr/local/lib/python3.10/dist-packages (from ipykernel->deeplib==0.1) (7.4.9)\n",
      "Requirement already satisfied: jupyter-core!=5.0.*,>=4.12 in /usr/local/lib/python3.10/dist-packages (from ipykernel->deeplib==0.1) (5.5.0)\n",
      "Requirement already satisfied: matplotlib-inline>=0.1 in /usr/local/lib/python3.10/dist-packages (from ipykernel->deeplib==0.1) (0.1.6)\n",
      "Requirement already satisfied: nest-asyncio in /usr/local/lib/python3.10/dist-packages (from ipykernel->deeplib==0.1) (1.5.8)\n",
      "Requirement already satisfied: packaging in /usr/local/lib/python3.10/dist-packages (from ipykernel->deeplib==0.1) (23.2)\n",
      "Requirement already satisfied: psutil in /usr/local/lib/python3.10/dist-packages (from ipykernel->deeplib==0.1) (5.9.6)\n",
      "Requirement already satisfied: pyzmq>=20 in /usr/local/lib/python3.10/dist-packages (from ipykernel->deeplib==0.1) (24.0.1)\n",
      "Requirement already satisfied: tornado>=6.1 in /usr/local/lib/python3.10/dist-packages (from ipykernel->deeplib==0.1) (6.3.3)\n",
      "Requirement already satisfied: traitlets>=5.4.0 in /usr/local/lib/python3.10/dist-packages (from ipykernel->deeplib==0.1) (5.13.0)\n",
      "Requirement already satisfied: decorator in /usr/local/lib/python3.10/dist-packages (from ipython->deeplib==0.1) (5.1.1)\n",
      "Requirement already satisfied: jedi>=0.16 in /usr/local/lib/python3.10/dist-packages (from ipython->deeplib==0.1) (0.19.1)\n",
      "Requirement already satisfied: prompt-toolkit!=3.0.37,<3.1.0,>=3.0.30 in /usr/local/lib/python3.10/dist-packages (from ipython->deeplib==0.1) (3.0.39)\n",
      "Requirement already satisfied: pygments>=2.4.0 in /usr/local/lib/python3.10/dist-packages (from ipython->deeplib==0.1) (2.16.1)\n",
      "Requirement already satisfied: stack-data in /usr/local/lib/python3.10/dist-packages (from ipython->deeplib==0.1) (0.6.3)\n",
      "Requirement already satisfied: exceptiongroup in /usr/local/lib/python3.10/dist-packages (from ipython->deeplib==0.1) (1.1.3)\n",
      "Requirement already satisfied: pexpect>4.3 in /usr/local/lib/python3.10/dist-packages (from ipython->deeplib==0.1) (4.8.0)\n",
      "Requirement already satisfied: contourpy>=1.0.1 in /usr/local/lib/python3.10/dist-packages (from matplotlib->deeplib==0.1) (1.3.1)\n",
      "Requirement already satisfied: cycler>=0.10 in /usr/local/lib/python3.10/dist-packages (from matplotlib->deeplib==0.1) (0.12.1)\n",
      "Requirement already satisfied: fonttools>=4.22.0 in /usr/local/lib/python3.10/dist-packages (from matplotlib->deeplib==0.1) (4.55.5)\n",
      "Requirement already satisfied: kiwisolver>=1.3.1 in /usr/local/lib/python3.10/dist-packages (from matplotlib->deeplib==0.1) (1.4.8)\n",
      "Requirement already satisfied: pyparsing>=2.3.1 in /usr/lib/python3/dist-packages (from matplotlib->deeplib==0.1) (2.4.7)\n",
      "Requirement already satisfied: python-dateutil>=2.7 in /usr/local/lib/python3.10/dist-packages (from matplotlib->deeplib==0.1) (2.8.2)\n",
      "Requirement already satisfied: pytz>=2020.1 in /usr/local/lib/python3.10/dist-packages (from pandas->deeplib==0.1) (2024.2)\n",
      "Requirement already satisfied: tzdata>=2022.7 in /usr/local/lib/python3.10/dist-packages (from pandas->deeplib==0.1) (2025.1)\n",
      "Requirement already satisfied: torchmetrics in /usr/local/lib/python3.10/dist-packages (from poutyne->deeplib==0.1) (1.6.1)\n",
      "Requirement already satisfied: joblib>=1.2.0 in /usr/local/lib/python3.10/dist-packages (from scikit-learn->deeplib==0.1) (1.4.2)\n",
      "Requirement already satisfied: threadpoolctl>=3.1.0 in /usr/local/lib/python3.10/dist-packages (from scikit-learn->deeplib==0.1) (3.5.0)\n",
      "Requirement already satisfied: filelock in /usr/local/lib/python3.10/dist-packages (from torch->deeplib==0.1) (3.9.0)\n",
      "Requirement already satisfied: typing-extensions in /usr/local/lib/python3.10/dist-packages (from torch->deeplib==0.1) (4.4.0)\n",
      "Requirement already satisfied: sympy in /usr/local/lib/python3.10/dist-packages (from torch->deeplib==0.1) (1.12)\n",
      "Requirement already satisfied: networkx in /usr/local/lib/python3.10/dist-packages (from torch->deeplib==0.1) (3.0)\n",
      "Requirement already satisfied: jinja2 in /usr/local/lib/python3.10/dist-packages (from torch->deeplib==0.1) (3.1.2)\n",
      "Requirement already satisfied: fsspec in /usr/local/lib/python3.10/dist-packages (from torch->deeplib==0.1) (2024.12.0)\n",
      "Requirement already satisfied: triton==2.1.0 in /usr/local/lib/python3.10/dist-packages (from torch->deeplib==0.1) (2.1.0)\n",
      "Requirement already satisfied: requests in /usr/local/lib/python3.10/dist-packages (from torchvision->deeplib==0.1) (2.31.0)\n",
      "Requirement already satisfied: huggingface-hub<1.0,>=0.24.0 in /usr/local/lib/python3.10/dist-packages (from transformers[torch]->deeplib==0.1) (0.27.1)\n",
      "Requirement already satisfied: pyyaml>=5.1 in /usr/local/lib/python3.10/dist-packages (from transformers[torch]->deeplib==0.1) (6.0.1)\n",
      "Requirement already satisfied: regex!=2019.12.17 in /usr/local/lib/python3.10/dist-packages (from transformers[torch]->deeplib==0.1) (2024.11.6)\n",
      "Requirement already satisfied: tokenizers<0.22,>=0.21 in /usr/local/lib/python3.10/dist-packages (from transformers[torch]->deeplib==0.1) (0.21.0)\n",
      "Requirement already satisfied: safetensors>=0.4.1 in /usr/local/lib/python3.10/dist-packages (from transformers[torch]->deeplib==0.1) (0.5.2)\n",
      "Requirement already satisfied: tqdm>=4.27 in /usr/local/lib/python3.10/dist-packages (from transformers[torch]->deeplib==0.1) (4.67.1)\n",
      "Requirement already satisfied: accelerate>=0.26.0 in /usr/local/lib/python3.10/dist-packages (from transformers[torch]->deeplib==0.1) (1.3.0)\n",
      "Requirement already satisfied: parso<0.9.0,>=0.8.3 in /usr/local/lib/python3.10/dist-packages (from jedi>=0.16->ipython->deeplib==0.1) (0.8.3)\n",
      "Requirement already satisfied: entrypoints in /usr/local/lib/python3.10/dist-packages (from jupyter-client>=6.1.12->ipykernel->deeplib==0.1) (0.4)\n",
      "Requirement already satisfied: platformdirs>=2.5 in /usr/local/lib/python3.10/dist-packages (from jupyter-core!=5.0.*,>=4.12->ipykernel->deeplib==0.1) (3.11.0)\n",
      "Requirement already satisfied: ptyprocess>=0.5 in /usr/local/lib/python3.10/dist-packages (from pexpect>4.3->ipython->deeplib==0.1) (0.7.0)\n",
      "Requirement already satisfied: wcwidth in /usr/local/lib/python3.10/dist-packages (from prompt-toolkit!=3.0.37,<3.1.0,>=3.0.30->ipython->deeplib==0.1) (0.2.9)\n",
      "Requirement already satisfied: six>=1.5 in /usr/lib/python3/dist-packages (from python-dateutil>=2.7->matplotlib->deeplib==0.1) (1.16.0)\n",
      "Requirement already satisfied: wrapt in /usr/local/lib/python3.10/dist-packages (from smart-open>=1.8.1->gensim->deeplib==0.1) (1.17.2)\n",
      "Requirement already satisfied: MarkupSafe>=2.0 in /usr/local/lib/python3.10/dist-packages (from jinja2->torch->deeplib==0.1) (2.1.2)\n",
      "Requirement already satisfied: charset-normalizer<4,>=2 in /usr/local/lib/python3.10/dist-packages (from requests->torchvision->deeplib==0.1) (2.1.1)\n",
      "Requirement already satisfied: idna<4,>=2.5 in /usr/local/lib/python3.10/dist-packages (from requests->torchvision->deeplib==0.1) (3.4)\n",
      "Requirement already satisfied: urllib3<3,>=1.21.1 in /usr/local/lib/python3.10/dist-packages (from requests->torchvision->deeplib==0.1) (1.26.13)\n",
      "Requirement already satisfied: certifi>=2017.4.17 in /usr/local/lib/python3.10/dist-packages (from requests->torchvision->deeplib==0.1) (2022.12.7)\n",
      "Requirement already satisfied: executing>=1.2.0 in /usr/local/lib/python3.10/dist-packages (from stack-data->ipython->deeplib==0.1) (2.0.1)\n",
      "Requirement already satisfied: asttokens>=2.1.0 in /usr/local/lib/python3.10/dist-packages (from stack-data->ipython->deeplib==0.1) (2.4.1)\n",
      "Requirement already satisfied: pure-eval in /usr/local/lib/python3.10/dist-packages (from stack-data->ipython->deeplib==0.1) (0.2.2)\n",
      "Requirement already satisfied: mpmath>=0.19 in /usr/local/lib/python3.10/dist-packages (from sympy->torch->deeplib==0.1) (1.3.0)\n",
      "Requirement already satisfied: lightning-utilities>=0.8.0 in /usr/local/lib/python3.10/dist-packages (from torchmetrics->poutyne->deeplib==0.1) (0.11.9)\n",
      "Requirement already satisfied: setuptools in /usr/local/lib/python3.10/dist-packages (from lightning-utilities>=0.8.0->torchmetrics->poutyne->deeplib==0.1) (68.2.2)\n",
      "\u001b[33mWARNING: Running pip as the 'root' user can result in broken permissions and conflicting behaviour with the system package manager. It is recommended to use a virtual environment instead: https://pip.pypa.io/warnings/venv\u001b[0m\u001b[33m\n",
      "\u001b[0m\n",
      "\u001b[1m[\u001b[0m\u001b[34;49mnotice\u001b[0m\u001b[1;39;49m]\u001b[0m\u001b[39;49m A new release of pip is available: \u001b[0m\u001b[31;49m23.3.1\u001b[0m\u001b[39;49m -> \u001b[0m\u001b[32;49m24.3.1\u001b[0m\n",
      "\u001b[1m[\u001b[0m\u001b[34;49mnotice\u001b[0m\u001b[1;39;49m]\u001b[0m\u001b[39;49m To update, run: \u001b[0m\u001b[32;49mpython -m pip install --upgrade pip\u001b[0m\n"
     ]
    }
   ],
   "source": [
    "!pip install git+https://github.com/ulaval-damas/glo4030-labs.git"
   ]
  },
  {
   "cell_type": "markdown",
   "metadata": {},
   "source": [
    "# Laboratoire 2: Graphe computationnel, backprop et fonctions d'activation"
   ]
  },
  {
   "cell_type": "code",
   "execution_count": 96,
   "metadata": {},
   "outputs": [
    {
     "name": "stdout",
     "output_type": "stream",
     "text": [
      "The autoreload extension is already loaded. To reload it, use:\n",
      "  %reload_ext autoreload\n"
     ]
    }
   ],
   "source": [
    "%load_ext autoreload\n",
    "%autoreload 2\n",
    "%matplotlib inline\n",
    "\n",
    "import math\n",
    "import numpy as np\n",
    "import matplotlib\n",
    "import matplotlib.pyplot as plt\n",
    "\n",
    "import torch\n",
    "import torch.nn as nn\n",
    "import torch.nn.functional as F\n",
    "from deeplib.visualization import make_vizualization_autograd"
   ]
  },
  {
   "cell_type": "markdown",
   "metadata": {},
   "source": [
    "##  Partie 1: Graphe computationnel et backprop\n",
    "Cette section a pour but de vous familiariser avec les notions de graphe computationnel et de backpropagation, plus particulièrement leur implémentation PyTorch. Dans le dernier laboratoire, vous avez vu une version haut-niveau de l'entraînement de réseaux de neurones. À l'inverse, ce laboratoire a pour but de vous donner une intuition du fonctionnement interne de PyTorch.\n",
    "### Tenseurs\n",
    "La structure de données de base dans PyTorch est le `Tensor`. Cette structure de données est comparable au `ndarray` numpy, avec l'avantage que les calculs matriciels peuvent être effectués sur GPU. Le package `torch.Tensor` définit des matrices multidimensionnelles et les opérations sur celles-ci. Voici quelques exemples: "
   ]
  },
  {
   "cell_type": "markdown",
   "metadata": {},
   "source": [
    "On peut créer un nouveau `Tensor` de dimension $3 \\times 3$ sans initialisation avec `torch.Tensor()` ou `torch.empty()`. Cependant, les valeurs déjà présentes dans la mémoire allouée sont utilisées comme valeurs initiales et peuvent donc contenir des NaN."
   ]
  },
  {
   "cell_type": "code",
   "execution_count": 97,
   "metadata": {},
   "outputs": [
    {
     "name": "stdout",
     "output_type": "stream",
     "text": [
      "tensor([[-9.6598e-01,  3.5285e-41, -7.5080e+23],\n",
      "        [ 4.4152e-41,  8.9683e-44,  0.0000e+00],\n",
      "        [ 1.3452e-43,  0.0000e+00,  3.5302e-16]])\n",
      "tensor([[-7.5081e+23,  4.4152e-41, -1.4975e+00],\n",
      "        [ 3.5285e-41,  0.0000e+00,  1.8230e+03],\n",
      "        [ 0.0000e+00,  1.7019e-05,  0.0000e+00]])\n"
     ]
    }
   ],
   "source": [
    "print(torch.Tensor(3, 3))\n",
    "print(torch.empty(3, 3))"
   ]
  },
  {
   "cell_type": "markdown",
   "metadata": {},
   "source": [
    "Il est possible d'initialiser un `Tensor` avec des valeurs plus utiles, comme par exemple avec des valeurs de 0 ou 1, ou encore pour obtenir une matrice identité."
   ]
  },
  {
   "cell_type": "code",
   "execution_count": 98,
   "metadata": {},
   "outputs": [
    {
     "name": "stdout",
     "output_type": "stream",
     "text": [
      "tensor([[0., 0., 0.],\n",
      "        [0., 0., 0.],\n",
      "        [0., 0., 0.]])\n",
      "tensor([[1., 1., 1.],\n",
      "        [1., 1., 1.],\n",
      "        [1., 1., 1.]])\n",
      "tensor([[1., 0., 0.],\n",
      "        [0., 1., 0.],\n",
      "        [0., 0., 1.]])\n"
     ]
    }
   ],
   "source": [
    "print(torch.zeros(3, 3))\n",
    "print(torch.ones(3, 3))\n",
    "print(torch.eye(3))"
   ]
  },
  {
   "cell_type": "markdown",
   "metadata": {},
   "source": [
    "On peut également créer un `Tensor` à partir de données existantes fournies explicitement ou à partir de structures de `numpy`. "
   ]
  },
  {
   "cell_type": "code",
   "execution_count": 99,
   "metadata": {},
   "outputs": [
    {
     "name": "stdout",
     "output_type": "stream",
     "text": [
      "tensor([1, 2, 3])\n",
      "[0.1  0.25 0.5 ] <class 'numpy.ndarray'>\n",
      "tensor([0.1000, 0.2500, 0.5000], dtype=torch.float64) <class 'torch.Tensor'>\n",
      "[0.1  0.25 0.5 ] <class 'numpy.ndarray'>\n"
     ]
    }
   ],
   "source": [
    "print(torch.tensor([1, 2, 3]))\n",
    "a = np.array([0.1, 0.25, 0.5])\n",
    "print(a, type(a))\n",
    "a = torch.from_numpy(a)\n",
    "print(a, type(a))\n",
    "a = a.numpy()\n",
    "print(a, type(a))"
   ]
  },
  {
   "cell_type": "markdown",
   "metadata": {},
   "source": [
    "Il est souvent nécessaire d'initialiser un `Tensor` avec des valeurs aléatoires, comme par exemple selon une normale centrée à 0 et de variance 1."
   ]
  },
  {
   "cell_type": "code",
   "execution_count": 100,
   "metadata": {},
   "outputs": [
    {
     "name": "stdout",
     "output_type": "stream",
     "text": [
      "tensor([[ 0.8117, -0.5892, -1.5601],\n",
      "        [-0.8486,  2.1535, -0.9127],\n",
      "        [-0.2895,  0.3607,  0.4502]])\n",
      "tensor(-0.0471)\n",
      "tensor(1.2534)\n"
     ]
    }
   ],
   "source": [
    "a = torch.randn(3, 3)\n",
    "print(a)\n",
    "print(torch.mean(a))\n",
    "print(torch.var(a))"
   ]
  },
  {
   "cell_type": "markdown",
   "metadata": {},
   "source": [
    "On peut également d'initialiser les valeurs d'un `Tensor` déjà existant avec des fonctions comme `normal_()` et `fill_()`. À noter, une méthode se terminant par un trait de soulignement (underscore) signifie que cette méthode fait une mutation du `Tensor`."
   ]
  },
  {
   "cell_type": "code",
   "execution_count": 101,
   "metadata": {},
   "outputs": [
    {
     "name": "stdout",
     "output_type": "stream",
     "text": [
      "tensor([[-5.0524e-23,  3.5282e-41,  0.0000e+00],\n",
      "        [ 0.0000e+00,  1.4013e-45,  0.0000e+00],\n",
      "        [ 0.0000e+00,  3.6070e-01,  4.5016e-01]])\n",
      "tensor([[-7.5081e+23],\n",
      "        [ 4.4152e-41],\n",
      "        [-1.5770e+00]])\n",
      "tensor([[ 0.1513,  1.3259,  1.0364],\n",
      "        [-0.3710, -0.8245, -1.5527],\n",
      "        [-0.2442, -0.5102,  0.7817]])\n",
      "tensor([[1.],\n",
      "        [1.],\n",
      "        [1.]])\n"
     ]
    }
   ],
   "source": [
    "a, b = torch.empty(3, 3), torch.empty(3, 1)\n",
    "print(a)\n",
    "print(b)\n",
    "a.normal_()\n",
    "b.fill_(1)\n",
    "print(a)\n",
    "print(b)"
   ]
  },
  {
   "cell_type": "markdown",
   "metadata": {},
   "source": [
    "Les opérations matricielles s'effectuent naturellement sur les `Tensor`."
   ]
  },
  {
   "cell_type": "code",
   "execution_count": 102,
   "metadata": {},
   "outputs": [
    {
     "name": "stdout",
     "output_type": "stream",
     "text": [
      "tensor([[ 2.5135],\n",
      "        [-2.7482],\n",
      "        [ 0.0272]])\n",
      "tensor([[ 2.5135],\n",
      "        [-2.7482],\n",
      "        [ 0.0272]])\n"
     ]
    }
   ],
   "source": [
    "print(a.matmul(b))\n",
    "print(torch.matmul(a, b))"
   ]
  },
  {
   "cell_type": "markdown",
   "metadata": {},
   "source": [
    "On peut facilement transférer un `Tensor` sur GPU (*Attention: une erreur est soulevée si on tente cette opération sur un ordinateur qui ne possède pas de carte graphique compatible avec les installations requises comme CUDA*). Les opérations sur ces `Tensor` seront alors exécutées sur GPU. On utilise la fonction [`.cuda()`](https://pytorch.org/docs/stable/tensors.html?highlight=cuda#torch.Tensor.cuda) pour envoyer un `Tensor` sur GPU et la fonction [`.cpu()`](https://pytorch.org/docs/stable/tensors.html?highlight=cpu#torch.Tensor.cpu) pour rapporter un `Tensor` vers le CPU."
   ]
  },
  {
   "cell_type": "code",
   "execution_count": 103,
   "metadata": {},
   "outputs": [
    {
     "name": "stdout",
     "output_type": "stream",
     "text": [
      "tensor([[ 2.5135],\n",
      "        [-2.7482],\n",
      "        [ 0.0272]], device='cuda:0')\n",
      "tensor([[ 2.5135],\n",
      "        [-2.7482],\n",
      "        [ 0.0272]])\n"
     ]
    }
   ],
   "source": [
    "a_gpu = a.cuda()\n",
    "b_gpu = b.cuda()\n",
    "print(a_gpu.matmul(b_gpu))\n",
    "print(a_gpu.matmul(b_gpu).cpu())"
   ]
  },
  {
   "cell_type": "markdown",
   "metadata": {},
   "source": [
    "##### Exercice \n",
    " - Corrigez la deuxième opération pour multiplier `a` avec `c_gpu` sur CPU."
   ]
  },
  {
   "cell_type": "code",
   "execution_count": 104,
   "metadata": {},
   "outputs": [
    {
     "name": "stdout",
     "output_type": "stream",
     "text": [
      "tensor([[-3.2353],\n",
      "        [ 1.2910],\n",
      "        [ 0.8096]])\n"
     ]
    }
   ],
   "source": [
    "c_gpu = a_gpu.matmul(b_gpu)\n",
    "# TODO Corrigez le code suivant\n",
    "print(a.matmul(c_gpu.cpu()))"
   ]
  },
  {
   "cell_type": "markdown",
   "metadata": {},
   "source": [
    "### Gradient et rétropropagation (backpropagation)\n",
    "\n",
    "Grâce au package `torch.autograd`, il est possible d'automatiquement calculer la dérivée de fonctions calculées à partir d'opérations sur les tenseurs. PyTorch construit dynamiquement un graphe de calcul indiquant les liens de dépendance entre les tenseurs et les opérations, ce qui permet la backpropagation.\n",
    "\n",
    "> **NOTE** Contrairement à des librairies comme Tensorflow où le graphe de calcul est statique, PyTorch recrée dynamique le graphe de calcul à chaque itération. Cela permet de modifier la structure du graphe dynamiquement avec du code Python. Par contre, cela rend la visualisation du graphe plus difficile. \n",
    "\n",
    "\n",
    "On indique les tenseurs qu'on veut dériver avec `requires_grad=True` (par défaut à False) lors de l'initialisation,"
   ]
  },
  {
   "cell_type": "code",
   "execution_count": 105,
   "metadata": {},
   "outputs": [],
   "source": [
    "x = torch.tensor(3., requires_grad=True)"
   ]
  },
  {
   "cell_type": "markdown",
   "metadata": {},
   "source": [
    "ou encore en modifiant l'attribut `requires_grad` d'un `Tensor` existant."
   ]
  },
  {
   "cell_type": "code",
   "execution_count": 106,
   "metadata": {},
   "outputs": [
    {
     "name": "stdout",
     "output_type": "stream",
     "text": [
      "tensor(3.)\n",
      "tensor(3., requires_grad=True)\n"
     ]
    }
   ],
   "source": [
    "x.requires_grad = False\n",
    "print(x)\n",
    "x.requires_grad = True\n",
    "print(x)"
   ]
  },
  {
   "cell_type": "markdown",
   "metadata": {},
   "source": [
    "Le graphe de calcul est alors bâti au fur et à mesure que des opérations mathématiques sont appliquées aux tenseurs."
   ]
  },
  {
   "cell_type": "code",
   "execution_count": 107,
   "metadata": {},
   "outputs": [],
   "source": [
    "f = x ** 2"
   ]
  },
  {
   "cell_type": "markdown",
   "metadata": {},
   "source": [
    "Chaque `Tensor` résultant d'une opération comporte un attribut `grad_fn` qui réfère à la `Fonction` (opération) qui l'a créé. Dans notre exemple nous avons utilisé une fonction puissance, par conséquent `grad_fn` de $f$ réfère à `PowBackward` correspondant à la fonction à utiliser pour la backprop (`Backward`) associée à la fonction puissance (`Pow` pour Power)."
   ]
  },
  {
   "cell_type": "code",
   "execution_count": 108,
   "metadata": {},
   "outputs": [
    {
     "data": {
      "text/plain": [
       "tensor(9., grad_fn=<PowBackward0>)"
      ]
     },
     "execution_count": 108,
     "metadata": {},
     "output_type": "execute_result"
    }
   ],
   "source": [
    "f"
   ]
  },
  {
   "cell_type": "markdown",
   "metadata": {},
   "source": [
    "On obtient un graphe acyclique qui encode l'historique de calcul comportant les `Tensor` avec `requires_grad=True` et les `Fonction` appliqués sur ceux-ci. En utilisant la fonction `make_vizualization_autograd` de deeplib, on peut visualiser ce graphe où les `Fonction` sont représentées par un rectangle gris avec la valeur de `grad_fn` et les `Tensor` aillant `requires_grad=True` par un rectangle bleu comportant l'identifiant *Var* ainsi que leur attribut `size`. Dans cet exemple, le rectangle bleu réfère au `Tensor` $x$."
   ]
  },
  {
   "cell_type": "code",
   "execution_count": 109,
   "metadata": {},
   "outputs": [
    {
     "data": {
      "image/svg+xml": [
       "<?xml version=\"1.0\" encoding=\"UTF-8\" standalone=\"no\"?>\n",
       "<!DOCTYPE svg PUBLIC \"-//W3C//DTD SVG 1.1//EN\"\n",
       " \"http://www.w3.org/Graphics/SVG/1.1/DTD/svg11.dtd\">\n",
       "<!-- Generated by graphviz version 2.43.0 (0)\n",
       " -->\n",
       "<!-- Title: %3 Pages: 1 -->\n",
       "<svg width=\"120pt\" height=\"99pt\"\n",
       " viewBox=\"0.00 0.00 120.00 99.00\" xmlns=\"http://www.w3.org/2000/svg\" xmlns:xlink=\"http://www.w3.org/1999/xlink\">\n",
       "<g id=\"graph0\" class=\"graph\" transform=\"scale(1 1) rotate(0) translate(4 95)\">\n",
       "<title>%3</title>\n",
       "<polygon fill=\"white\" stroke=\"transparent\" points=\"-4,4 -4,-95 116,-95 116,4 -4,4\"/>\n",
       "<!-- 135322040250240 -->\n",
       "<g id=\"node1\" class=\"node\">\n",
       "<title>135322040250240</title>\n",
       "<polygon fill=\"lightgrey\" stroke=\"black\" points=\"112,-91 0,-91 0,-70 112,-70 112,-91\"/>\n",
       "<text text-anchor=\"middle\" x=\"56\" y=\"-77.4\" font-family=\"Times,serif\" font-size=\"12.00\">PowBackward0</text>\n",
       "</g>\n",
       "<!-- 135322040250432 -->\n",
       "<g id=\"node2\" class=\"node\">\n",
       "<title>135322040250432</title>\n",
       "<polygon fill=\"lightblue\" stroke=\"black\" points=\"83,-34 29,-34 29,0 83,0 83,-34\"/>\n",
       "<text text-anchor=\"middle\" x=\"56\" y=\"-20.4\" font-family=\"Times,serif\" font-size=\"12.00\">Var</text>\n",
       "<text text-anchor=\"middle\" x=\"56\" y=\"-7.4\" font-family=\"Times,serif\" font-size=\"12.00\"> ()</text>\n",
       "</g>\n",
       "<!-- 135322040250240&#45;&gt;135322040250432 -->\n",
       "<g id=\"edge1\" class=\"edge\">\n",
       "<title>135322040250240&#45;&gt;135322040250432</title>\n",
       "<path fill=\"none\" stroke=\"black\" d=\"M56,-69.89C56,-63.09 56,-53.62 56,-44.63\"/>\n",
       "<polygon fill=\"black\" stroke=\"black\" points=\"59.5,-44.48 56,-34.48 52.5,-44.48 59.5,-44.48\"/>\n",
       "</g>\n",
       "</g>\n",
       "</svg>\n"
      ],
      "text/plain": [
       "<graphviz.graphs.Digraph at 0x7b131e23b7c0>"
      ]
     },
     "execution_count": 109,
     "metadata": {},
     "output_type": "execute_result"
    }
   ],
   "source": [
    "make_vizualization_autograd(f)"
   ]
  },
  {
   "cell_type": "markdown",
   "metadata": {},
   "source": [
    "À la fin des calculs, on appelle la fonction `backward()` qui parcourt le graphe de calcul en sens inverse et calcule le gradient de la fonction $f$ selon chacune des variables du graphe"
   ]
  },
  {
   "cell_type": "code",
   "execution_count": 110,
   "metadata": {},
   "outputs": [],
   "source": [
    "f.backward()"
   ]
  },
  {
   "cell_type": "markdown",
   "metadata": {},
   "source": [
    "Après avoir exécuté la fonction backward(), l'attribut grad des tenseurs impliqués dans le calcul contient la valeur du gradient calculé au point courant. Ici, on aura la valeur :\n",
    "$$\\left[\\frac{\\partial f(x)}{\\partial x}\\right]_{x=3} = \\left[\\frac{\\partial x^2}{\\partial x}\\right]_{x=3} =\\big[\\,2\\,x\\,\\big]_{x=3} = 6$$"
   ]
  },
  {
   "cell_type": "code",
   "execution_count": 111,
   "metadata": {},
   "outputs": [
    {
     "data": {
      "text/plain": [
       "tensor(6.)"
      ]
     },
     "execution_count": 111,
     "metadata": {},
     "output_type": "execute_result"
    }
   ],
   "source": [
    "x.grad"
   ]
  },
  {
   "cell_type": "markdown",
   "metadata": {},
   "source": [
    "À noter, les opérations in-place, c'est-à-dire les opérations qui font une mutation directe d'un ```Tensor``` (et qui se terminent par un underscore), ne sont pas disponibles lorsque ```requires_grad``` est égal à ```True```. Ainsi, l'exécution de la prochaine cellule soulève une erreur:"
   ]
  },
  {
   "cell_type": "code",
   "execution_count": 112,
   "metadata": {},
   "outputs": [
    {
     "ename": "RuntimeError",
     "evalue": "a leaf Variable that requires grad is being used in an in-place operation.",
     "output_type": "error",
     "traceback": [
      "\u001b[0;31m---------------------------------------------------------------------------\u001b[0m",
      "\u001b[0;31mRuntimeError\u001b[0m                              Traceback (most recent call last)",
      "Cell \u001b[0;32mIn[112], line 1\u001b[0m\n\u001b[0;32m----> 1\u001b[0m \u001b[43mx\u001b[49m\u001b[38;5;241;43m.\u001b[39;49m\u001b[43muniform_\u001b[49m\u001b[43m(\u001b[49m\u001b[43m)\u001b[49m\n",
      "\u001b[0;31mRuntimeError\u001b[0m: a leaf Variable that requires grad is being used in an in-place operation."
     ]
    }
   ],
   "source": [
    "x.uniform_()"
   ]
  },
  {
   "cell_type": "markdown",
   "metadata": {},
   "source": [
    "Également, on ne peut pas directement convertir un `Tensor` qui a `requires_grad=True` vers `numpy`, l'exécution de la prochaine cellule soulève donc une erreur:"
   ]
  },
  {
   "cell_type": "code",
   "execution_count": 29,
   "metadata": {},
   "outputs": [
    {
     "ename": "RuntimeError",
     "evalue": "Can't call numpy() on Tensor that requires grad. Use tensor.detach().numpy() instead.",
     "output_type": "error",
     "traceback": [
      "\u001b[0;31m---------------------------------------------------------------------------\u001b[0m",
      "\u001b[0;31mRuntimeError\u001b[0m                              Traceback (most recent call last)",
      "Cell \u001b[0;32mIn[29], line 1\u001b[0m\n\u001b[0;32m----> 1\u001b[0m \u001b[43mx\u001b[49m\u001b[38;5;241;43m.\u001b[39;49m\u001b[43mnumpy\u001b[49m\u001b[43m(\u001b[49m\u001b[43m)\u001b[49m\n",
      "\u001b[0;31mRuntimeError\u001b[0m: Can't call numpy() on Tensor that requires grad. Use tensor.detach().numpy() instead."
     ]
    }
   ],
   "source": [
    "x.numpy()"
   ]
  },
  {
   "cell_type": "markdown",
   "metadata": {},
   "source": [
    "Il faut d'abord utiliser la fonction `detach()` qui détache sa valeur de l'accumulation de l'historique de calcul."
   ]
  },
  {
   "cell_type": "code",
   "execution_count": 30,
   "metadata": {},
   "outputs": [
    {
     "data": {
      "text/plain": [
       "array(3., dtype=float32)"
      ]
     },
     "execution_count": 30,
     "metadata": {},
     "output_type": "execute_result"
    }
   ],
   "source": [
    "x.detach().numpy()"
   ]
  },
  {
   "cell_type": "markdown",
   "metadata": {},
   "source": [
    "Voyons maintenant un exemple plus complexe en effectuant des opérations sur 3 `Tensor` de dimension $2 \\times 2$: $x$, $y$ et $z$. On met `requires_grad=True` seulement pour $y$ et $z$ et on effectue des opérations résultant dans le `Tensor` $f$."
   ]
  },
  {
   "cell_type": "code",
   "execution_count": null,
   "metadata": {},
   "outputs": [
    {
     "name": "stdout",
     "output_type": "stream",
     "text": [
      "x:\n",
      " tensor([[-0.1095,  0.3901],\n",
      "        [-0.1506, -0.7566]])\n",
      "y:\n",
      " tensor([[ 0.2570, -0.2645],\n",
      "        [ 0.1344, -0.5262]], requires_grad=True)\n",
      "z:\n",
      " tensor([[0.2962, 0.5007],\n",
      "        [0.2398, 0.2797]], requires_grad=True)\n",
      "f:\n",
      " tensor([[ 0.4680,  0.4500],\n",
      "        [ 0.0833, -0.5652]], grad_fn=<AddBackward0>)\n"
     ]
    }
   ],
   "source": [
    "x = torch.Tensor(2, 2).uniform_(-1, 1)\n",
    "x.requires_grad = False\n",
    "print(\"x:\\n\", x)\n",
    "\n",
    "y = torch.Tensor(2, 2).uniform_(-1, 1)\n",
    "y.requires_grad = True\n",
    "print(\"y:\\n\", y)\n",
    "\n",
    "z = torch.Tensor(2, 2).uniform_(-1, 1)\n",
    "z.requires_grad = True\n",
    "print(\"z:\\n\", z)\n",
    "\n",
    "f = torch.matmul(x, y) + x + y + z\n",
    "print(\"f:\\n\", f)"
   ]
  },
  {
   "cell_type": "markdown",
   "metadata": {},
   "source": [
    "Visualisons le graphe de calcul construit par ces opérations:"
   ]
  },
  {
   "cell_type": "code",
   "execution_count": 43,
   "metadata": {},
   "outputs": [
    {
     "data": {
      "image/svg+xml": [
       "<?xml version=\"1.0\" encoding=\"UTF-8\" standalone=\"no\"?>\n",
       "<!DOCTYPE svg PUBLIC \"-//W3C//DTD SVG 1.1//EN\"\n",
       " \"http://www.w3.org/Graphics/SVG/1.1/DTD/svg11.dtd\">\n",
       "<!-- Generated by graphviz version 2.43.0 (0)\n",
       " -->\n",
       "<!-- Title: %3 Pages: 1 -->\n",
       "<svg width=\"231pt\" height=\"283pt\"\n",
       " viewBox=\"0.00 0.00 231.00 283.00\" xmlns=\"http://www.w3.org/2000/svg\" xmlns:xlink=\"http://www.w3.org/1999/xlink\">\n",
       "<g id=\"graph0\" class=\"graph\" transform=\"scale(1 1) rotate(0) translate(4 279)\">\n",
       "<title>%3</title>\n",
       "<polygon fill=\"white\" stroke=\"transparent\" points=\"-4,4 -4,-279 227,-279 227,4 -4,4\"/>\n",
       "<!-- 135329028357472 -->\n",
       "<g id=\"node1\" class=\"node\">\n",
       "<title>135329028357472</title>\n",
       "<polygon fill=\"lightgrey\" stroke=\"black\" points=\"201,-275 91,-275 91,-254 201,-254 201,-275\"/>\n",
       "<text text-anchor=\"middle\" x=\"146\" y=\"-261.4\" font-family=\"Times,serif\" font-size=\"12.00\">AddBackward0</text>\n",
       "</g>\n",
       "<!-- 135329028354688 -->\n",
       "<g id=\"node2\" class=\"node\">\n",
       "<title>135329028354688</title>\n",
       "<polygon fill=\"lightgrey\" stroke=\"black\" points=\"151,-211.5 41,-211.5 41,-190.5 151,-190.5 151,-211.5\"/>\n",
       "<text text-anchor=\"middle\" x=\"96\" y=\"-197.9\" font-family=\"Times,serif\" font-size=\"12.00\">AddBackward0</text>\n",
       "</g>\n",
       "<!-- 135329028357472&#45;&gt;135329028354688 -->\n",
       "<g id=\"edge1\" class=\"edge\">\n",
       "<title>135329028357472&#45;&gt;135329028354688</title>\n",
       "<path fill=\"none\" stroke=\"black\" d=\"M138.19,-253.89C130.75,-244.74 119.37,-230.74 110.3,-219.59\"/>\n",
       "<polygon fill=\"black\" stroke=\"black\" points=\"112.95,-217.3 103.92,-211.74 107.52,-221.71 112.95,-217.3\"/>\n",
       "</g>\n",
       "<!-- 135329028357808 -->\n",
       "<g id=\"node6\" class=\"node\">\n",
       "<title>135329028357808</title>\n",
       "<polygon fill=\"lightblue\" stroke=\"black\" points=\"223,-218 169,-218 169,-184 223,-184 223,-218\"/>\n",
       "<text text-anchor=\"middle\" x=\"196\" y=\"-204.4\" font-family=\"Times,serif\" font-size=\"12.00\">Var</text>\n",
       "<text text-anchor=\"middle\" x=\"196\" y=\"-191.4\" font-family=\"Times,serif\" font-size=\"12.00\"> (2, 2)</text>\n",
       "</g>\n",
       "<!-- 135329028357472&#45;&gt;135329028357808 -->\n",
       "<g id=\"edge6\" class=\"edge\">\n",
       "<title>135329028357472&#45;&gt;135329028357808</title>\n",
       "<path fill=\"none\" stroke=\"black\" d=\"M153.81,-253.89C159.82,-246.5 168.4,-235.95 176.25,-226.3\"/>\n",
       "<polygon fill=\"black\" stroke=\"black\" points=\"179.01,-228.45 182.6,-218.48 173.58,-224.03 179.01,-228.45\"/>\n",
       "</g>\n",
       "<!-- 135329028350416 -->\n",
       "<g id=\"node3\" class=\"node\">\n",
       "<title>135329028350416</title>\n",
       "<polygon fill=\"lightgrey\" stroke=\"black\" points=\"110,-148 0,-148 0,-127 110,-127 110,-148\"/>\n",
       "<text text-anchor=\"middle\" x=\"55\" y=\"-134.4\" font-family=\"Times,serif\" font-size=\"12.00\">AddBackward0</text>\n",
       "</g>\n",
       "<!-- 135329028354688&#45;&gt;135329028350416 -->\n",
       "<g id=\"edge2\" class=\"edge\">\n",
       "<title>135329028354688&#45;&gt;135329028350416</title>\n",
       "<path fill=\"none\" stroke=\"black\" d=\"M89.59,-190.39C83.61,-181.42 74.53,-167.79 67.17,-156.75\"/>\n",
       "<polygon fill=\"black\" stroke=\"black\" points=\"69.96,-154.62 61.5,-148.24 64.13,-158.51 69.96,-154.62\"/>\n",
       "</g>\n",
       "<!-- 135329028357760 -->\n",
       "<g id=\"node5\" class=\"node\">\n",
       "<title>135329028357760</title>\n",
       "<polygon fill=\"lightblue\" stroke=\"black\" points=\"123,-34 69,-34 69,0 123,0 123,-34\"/>\n",
       "<text text-anchor=\"middle\" x=\"96\" y=\"-20.4\" font-family=\"Times,serif\" font-size=\"12.00\">Var</text>\n",
       "<text text-anchor=\"middle\" x=\"96\" y=\"-7.4\" font-family=\"Times,serif\" font-size=\"12.00\"> (2, 2)</text>\n",
       "</g>\n",
       "<!-- 135329028354688&#45;&gt;135329028357760 -->\n",
       "<g id=\"edge5\" class=\"edge\">\n",
       "<title>135329028354688&#45;&gt;135329028357760</title>\n",
       "<path fill=\"none\" stroke=\"black\" d=\"M101.69,-190.44C107.36,-180.31 115.69,-163.65 119,-148 126.17,-114.08 126.17,-103.92 119,-70 117.09,-60.98 113.51,-51.61 109.74,-43.36\"/>\n",
       "<polygon fill=\"black\" stroke=\"black\" points=\"112.83,-41.72 105.3,-34.27 106.54,-44.79 112.83,-41.72\"/>\n",
       "</g>\n",
       "<!-- 135329028348064 -->\n",
       "<g id=\"node4\" class=\"node\">\n",
       "<title>135329028348064</title>\n",
       "<polygon fill=\"lightgrey\" stroke=\"black\" points=\"110,-91 0,-91 0,-70 110,-70 110,-91\"/>\n",
       "<text text-anchor=\"middle\" x=\"55\" y=\"-77.4\" font-family=\"Times,serif\" font-size=\"12.00\">MmBackward0</text>\n",
       "</g>\n",
       "<!-- 135329028350416&#45;&gt;135329028348064 -->\n",
       "<g id=\"edge3\" class=\"edge\">\n",
       "<title>135329028350416&#45;&gt;135329028348064</title>\n",
       "<path fill=\"none\" stroke=\"black\" d=\"M55,-126.92C55,-119.91 55,-110.14 55,-101.47\"/>\n",
       "<polygon fill=\"black\" stroke=\"black\" points=\"58.5,-101.34 55,-91.34 51.5,-101.34 58.5,-101.34\"/>\n",
       "</g>\n",
       "<!-- 135329028348064&#45;&gt;135329028357760 -->\n",
       "<g id=\"edge4\" class=\"edge\">\n",
       "<title>135329028348064&#45;&gt;135329028357760</title>\n",
       "<path fill=\"none\" stroke=\"black\" d=\"M61.41,-69.89C66.23,-62.65 73.08,-52.37 79.42,-42.88\"/>\n",
       "<polygon fill=\"black\" stroke=\"black\" points=\"82.38,-44.74 85.01,-34.48 76.55,-40.86 82.38,-44.74\"/>\n",
       "</g>\n",
       "</g>\n",
       "</svg>\n"
      ],
      "text/plain": [
       "<graphviz.graphs.Digraph at 0x7b14bea99ed0>"
      ]
     },
     "execution_count": 43,
     "metadata": {},
     "output_type": "execute_result"
    }
   ],
   "source": [
    "make_vizualization_autograd(f)"
   ]
  },
  {
   "cell_type": "markdown",
   "metadata": {},
   "source": [
    "#### Questions\n",
    "- En considérant que `Add` réfère à une addition matricielle et `Mm` à une multiplication matricielle, associez chaque rectangle bleu du graphe au `Tensor` ($x$, $y$ ou $z$) correspondant. \n",
    "\n",
    "De gauche a droite : $y$ puis $z$, x non présent car `x.requires_grad=False`.\n",
    "\n",
    "- Que devient le graphe si on change `x.requires_grad=True`? Effectuez le changement dans le code pour confirmer votre réponse. \n",
    "\n",
    "De gauche a droite : $x$ puis $y$ puis $z$."
   ]
  },
  {
   "cell_type": "markdown",
   "metadata": {},
   "source": [
    "Effectuons maintenant la backprop du gradient. Au départ les attributs `grad` des `Tensor` sont vides."
   ]
  },
  {
   "cell_type": "code",
   "execution_count": 55,
   "metadata": {},
   "outputs": [
    {
     "name": "stdout",
     "output_type": "stream",
     "text": [
      "None\n",
      "None\n",
      "None\n"
     ]
    }
   ],
   "source": [
    "print(x.grad)\n",
    "print(y.grad)\n",
    "print(z.grad)"
   ]
  },
  {
   "cell_type": "markdown",
   "metadata": {},
   "source": [
    "On appele la fonction `backward`."
   ]
  },
  {
   "cell_type": "code",
   "execution_count": null,
   "metadata": {},
   "outputs": [],
   "source": [
    "f.backward(torch.ones(f.size()))"
   ]
  },
  {
   "cell_type": "markdown",
   "metadata": {},
   "source": [
    "Et on obtient des valeurs de gradients pour les `Tensor` qui avaient `requires_grad=True`, par conséquent `x.grad` devrait toujours être vide."
   ]
  },
  {
   "cell_type": "code",
   "execution_count": 57,
   "metadata": {
    "scrolled": true
   },
   "outputs": [
    {
     "name": "stdout",
     "output_type": "stream",
     "text": [
      "None\n",
      "tensor([[0.7399, 0.7399],\n",
      "        [0.6335, 0.6335]])\n",
      "tensor([[1., 1.],\n",
      "        [1., 1.]])\n"
     ]
    }
   ],
   "source": [
    "print(x.grad)\n",
    "print(y.grad)\n",
    "print(z.grad)"
   ]
  },
  {
   "cell_type": "markdown",
   "metadata": {},
   "source": [
    "#### Questions\n",
    "- Exécutez deux fois la cellule qui appelle la fonction .backward(). Qu'arrive-t-il? Pourquoi?\n",
    "\n",
    "Une erreur est levée car les valeurs intermédiaire de graphe de calcul sont libéré lorsqu'on appelle `.backward()`.\n",
    "\n",
    "- Quel `Tensor` auraient requires_grad=False dans le contexte d'entraînement de réseaux de neurones?\n",
    "\n",
    "Le `Tensor` d'entrée"
   ]
  },
  {
   "cell_type": "markdown",
   "metadata": {},
   "source": [
    "Il est possible de prévenir l'enregistrement de l'historique de calcul d'opérations effectuées sur des `Tensor` aillant `requires_grad=True` en utilisant un bloc de code avec `with torch.no_grad()`:"
   ]
  },
  {
   "cell_type": "code",
   "execution_count": 58,
   "metadata": {},
   "outputs": [
    {
     "name": "stdout",
     "output_type": "stream",
     "text": [
      "True\n",
      "False\n"
     ]
    }
   ],
   "source": [
    "print((y + z).requires_grad)\n",
    "\n",
    "with torch.no_grad():\n",
    "    print((y + z).requires_grad)"
   ]
  },
  {
   "cell_type": "markdown",
   "metadata": {},
   "source": [
    "#### Exercice\n",
    "- Faites la mise à jour des valeurs de y et z et soustrayant leur gradient multiplié par $1 \\times 10^{-3}$  sans créer un nouveau graphe de calcul lors de l'opération. Notez que si le tenseur résultant a un attribut `grad_fn`, un graphe de calcul a été créé."
   ]
  },
  {
   "cell_type": "code",
   "execution_count": null,
   "metadata": {},
   "outputs": [
    {
     "name": "stdout",
     "output_type": "stream",
     "text": [
      "tensor([[-0.2521,  0.6759],\n",
      "        [ 0.7366, -0.5906]], requires_grad=True)\n",
      "tensor([[ 1.0829, -0.3488],\n",
      "        [ 1.0843,  2.0337]], requires_grad=True)\n"
     ]
    }
   ],
   "source": [
    "y = torch.randn((2, 2), requires_grad=True)\n",
    "z = torch.randn((2, 2), requires_grad=True)\n",
    "\n",
    "f = torch.matmul(y, z)\n",
    "f.backward(torch.ones(f.size()))\n",
    "\n",
    "# TODO Mise à jour de y et z\n",
    "with torch.no_grad():\n",
    "    y -= y.grad * 1e-3\n",
    "    z -= z.grad * 1e-3\n",
    "    print(y)\n",
    "    print(z)"
   ]
  },
  {
   "cell_type": "markdown",
   "metadata": {},
   "source": [
    "#### Question\n",
    "- Dans le contexte des réseaux de neurones, dans quelle situation voudrait-on ne calculer aucun gradient d'un graphe de calcul?\n",
    "\n",
    "Pendant l'inférence"
   ]
  },
  {
   "cell_type": "markdown",
   "metadata": {},
   "source": [
    "### Descente du gradient: un aperçu\n",
    "Considérons une fonction simple en une dimension:\n",
    "$$ f(x) = x^2 - x + 2 $$"
   ]
  },
  {
   "cell_type": "code",
   "execution_count": 65,
   "metadata": {},
   "outputs": [],
   "source": [
    "def fonction_simple(x):\n",
    "    return x**2 - x + 2"
   ]
  },
  {
   "cell_type": "markdown",
   "metadata": {},
   "source": [
    "On peut visualiser cette fonction convexe qui possède un minimum global en $x = 0.5$"
   ]
  },
  {
   "cell_type": "code",
   "execution_count": 66,
   "metadata": {},
   "outputs": [
    {
     "data": {
      "image/png": "[encoded data removed]",
      "text/plain": [
       "<Figure size 640x480 with 1 Axes>"
      ]
     },
     "metadata": {},
     "output_type": "display_data"
    }
   ],
   "source": [
    "x_range = np.linspace(-2, 3)\n",
    "plt.plot(x_range, fonction_simple(x_range) )\n",
    "plt.scatter(.5, fonction_simple(.5), s=150, marker='*', c='r')\n",
    "plt.ylim(0, 6)\n",
    "plt.tight_layout()\n",
    "plt.show()"
   ]
  },
  {
   "cell_type": "markdown",
   "metadata": {},
   "source": [
    "Nous allons tenter de trouver ce minimum global en partant avec $x = -2$ par la méthode de descente du gradient (vu en détails au prochain cours) en utilisant la dérivation automatique de PyTorch. À chaque itération, la fonction est évaluée au paramètre $x$, le gradient est obtenu en appelant `backward`, puis la valeur du paramètre `x` est mise à jour selon la direction pointée par le gradient et un certain pas (0.25 dans cet exemple)."
   ]
  },
  {
   "cell_type": "markdown",
   "metadata": {},
   "source": [
    "#### Exercice\n",
    "- Dans son état actuel, le code ne permet pas de converger vers le minimum global. Une étape est manquante dans la boucle de descente du gradient concernant le graphe de calcul. Ajoutez la ligne manquante et confirmez que le paramètre $x$ converge bien vers le minimum global. **Indice: observez les valeurs de f'(x) au fil des itérations. Est-ce que les valeurs correspondent aux gradients attendus?**."
   ]
  },
  {
   "cell_type": "code",
   "execution_count": 119,
   "metadata": {},
   "outputs": [
    {
     "name": "stdout",
     "output_type": "stream",
     "text": [
      "Iteration 01:  x =-2.00000  f(x) = 8.00000  f'(x) =-5.00000\n",
      "Iteration 02:  x =-0.75000  f(x) = 3.31250  f'(x) =-2.50000\n",
      "Iteration 03:  x =-0.12500  f(x) = 2.14062  f'(x) =-1.25000\n",
      "Iteration 04:  x = 0.18750  f(x) = 1.84766  f'(x) =-0.62500\n",
      "Iteration 05:  x = 0.34375  f(x) = 1.77441  f'(x) =-0.31250\n",
      "Iteration 06:  x = 0.42188  f(x) = 1.75610  f'(x) =-0.15625\n",
      "Iteration 07:  x = 0.46094  f(x) = 1.75153  f'(x) =-0.07812\n",
      "Iteration 08:  x = 0.48047  f(x) = 1.75038  f'(x) =-0.03906\n",
      "Iteration 09:  x = 0.49023  f(x) = 1.75010  f'(x) =-0.01953\n",
      "Iteration 10:  x = 0.49512  f(x) = 1.75002  f'(x) =-0.00977\n",
      "[-2.0, -0.75, -0.125, 0.1875, 0.34375, 0.421875, 0.4609375, 0.48046875, 0.49023438, 0.4951172]\n",
      "[8.0, 3.3125, 2.140625, 1.8476562, 1.7744141, 1.7561035, 1.7515259, 1.7503815, 1.7500954, 1.7500238]\n"
     ]
    },
    {
     "data": {
      "image/png": "[encoded data removed]",
      "text/plain": [
       "<Figure size 640x480 with 1 Axes>"
      ]
     },
     "metadata": {},
     "output_type": "display_data"
    }
   ],
   "source": [
    "# Nombre d'itérations\n",
    "T = 10\n",
    "\n",
    "# Initialisation\n",
    "x = torch.Tensor([-2])\n",
    "x.requires_grad = True\n",
    "list_x, list_values = [], []\n",
    "\n",
    "# Boucle de descente du gradient\n",
    "for t in range(T):\n",
    "    \n",
    "    # Calcul de la fonction objectif\n",
    "    val = fonction_simple(x)\n",
    "    \n",
    "    # Enregistrement des valeurs pour visualisation\n",
    "    list_x.append(x.detach().numpy()[0])\n",
    "    list_values.append(val.detach().numpy()[0])\n",
    "\n",
    "    # Calcul des gradients\n",
    "    val.backward()\n",
    "    \n",
    "    print(f\"Iteration {t+1:02}:\",\n",
    "          f\" x ={x.item(): .5f}\",\n",
    "          f\" f(x) ={val.item(): .5f}\",\n",
    "          f\" f\\'(x) ={x.grad.item(): .5f}\")\n",
    "    \n",
    "    # Mise à jour du paramètre x\n",
    "    with torch.no_grad():\n",
    "        x -= 0.25 * x.grad\n",
    "        \n",
    "    # TODO Ajoutez l'étape manquante\n",
    "    x.grad.zero_()\n",
    "\n",
    "print(list_x)\n",
    "print(list_values)\n",
    "\n",
    "plt.plot(x_range, fonction_simple(x_range))\n",
    "plt.plot(list_x, list_values, linestyle='dashed', marker='o', color='green')\n",
    "plt.scatter(.5, fonction_simple(.5), s=150, marker='*', c='r')\n",
    "plt.show()"
   ]
  },
  {
   "cell_type": "markdown",
   "metadata": {},
   "source": [
    "## Partie 2: Fonctions d'activation\n",
    "\n",
    "La section suivante a pour but d'explorer les différences entre les fonctions d'activation ReLU et Tanh.\n",
    "\n",
    "#### Question préalable\n",
    "- À quoi sert la fonction d'activation? Sans elle, que devient un réseau multi-couches? \n",
    "\n",
    "A casser la linéarité, sinon un réseau multi-couches devient l'équivalent d'un réseau une couche\n",
    "\n",
    "### Visualisation du dataset\n",
    "Pour cette partie, nous utiliserons le dataset binaire des spirales. Chaque exemple est représenté par un vecteur de dimension 7: $[x, y, x^2, y^2, x*y, \\sin(x), \\sin(y)]$, où les deux premières valeurs correspondent aux coordonnées dans un espace en deux dimensions présenté par le graphique suivant, et les autres valeurs sont des transformations sur les deux premières. Vous pouvez voir le code qui a servi à générer le dataset dans la librairie https://github.com/ulaval-damas/glo4030-labs/blob/master/deeplib/datasets.py"
   ]
  },
  {
   "cell_type": "code",
   "execution_count": 120,
   "metadata": {},
   "outputs": [
    {
     "data": {
      "image/png": "[encoded data removed]",
      "text/plain": [
       "<Figure size 640x480 with 1 Axes>"
      ]
     },
     "metadata": {},
     "output_type": "display_data"
    }
   ],
   "source": [
    "from deeplib.datasets import SpiralDataset, train_valid_loaders\n",
    "import random\n",
    "\n",
    "random.seed(42)\n",
    "dataset = SpiralDataset()\n",
    "points, labels = dataset.to_numpy()\n",
    "plt.scatter(points[labels==1,0], points[labels==1,1])\n",
    "plt.scatter(points[labels==0,0], points[labels==0,1])\n",
    "plt.show()"
   ]
  },
  {
   "cell_type": "markdown",
   "metadata": {},
   "source": [
    "### Création de modèles\n",
    "\n",
    "Ici, on crée des classes qui héritent de `torch.nn.Module`. C'est la classe de base de tout réseau dans PyTorch. `Module` comporte par exemple la méthode `named_parameters()` qui permet d'obtenir toutes les variables entraînables du `Module` ainsi que leur nom. Voici un lien vers la documentation complète:\n",
    "http://pytorch.org/docs/stable/nn.html#torch.nn.Module.\n",
    "\n",
    "#### Exercice\n",
    "- Complétez la fonction forward de TanhModel et ReluModel en appliquant à chaque couche la transformation linéaire ([Indice](https://pytorch.org/docs/stable/generated/torch.nn.Linear.html#torch.nn.Linear)) suivie de la fonction activation ([Indice](https://pytorch.org/docs/stable/generated/torch.tanh.html?highlight=tanh#torch.tanh)).\n"
   ]
  },
  {
   "cell_type": "code",
   "execution_count": 125,
   "metadata": {},
   "outputs": [],
   "source": [
    "class RandomModel(torch.nn.Module):\n",
    "    \n",
    "    def __init__(self, n_layers, init_gaussian_mean):\n",
    "        super().__init__()\n",
    "        # Le modèle Tanh et ReLU vont être initialisé avec les mêmes matrices aléatoires\n",
    "        torch.manual_seed(42) \n",
    "        \n",
    "        # Initialisation des couches\n",
    "        self.layers = []\n",
    "        for i in range(n_layers):\n",
    "            layer = nn.Linear(7,7)\n",
    "            layer.weight.data.normal_(init_gaussian_mean, math.sqrt(2 / 7))\n",
    "            layer.bias.data.fill_(0)\n",
    "            self.layers.append(layer)\n",
    "            self.add_module('layer-%d' % i, layer)\n",
    "        self.output_layer = nn.Linear(7,2)\n",
    "        \n",
    "        self.nonzero_grad_stats = None\n",
    "    \n",
    "    def forward(self):\n",
    "        raise NotImplementedError('Defined in children classes')\n",
    "       \n",
    "    def _forward_output_layer(self, x):\n",
    "        # Couche de sortie avec une neurone par classe\n",
    "        out = self.output_layer(x)\n",
    "        out = F.log_softmax(out, dim=1)\n",
    "        return out\n",
    "    \n",
    "    def compute_gradients_stats(self):\n",
    "        self.nonzero_grad_stats = []\n",
    "        \n",
    "        # Calcul pour chaque couche du nombre de poids avec un gradient non nul\n",
    "        # ainsi que la moyenne de ces derniers.\n",
    "        for i, layer in enumerate(self.layers):\n",
    "            if layer.weight.grad is not None:\n",
    "                nonzero_grad_indices = torch.nonzero(layer.weight.grad)\n",
    "                nonzero_grad = [layer.weight.grad.data[i,j] for (i,j) in nonzero_grad_indices]\n",
    "                nonzero_grad_mean = np.mean(np.abs(nonzero_grad)) if nonzero_grad else 0\n",
    "                self.nonzero_grad_stats.append((len(nonzero_grad), nonzero_grad_mean))\n",
    "        \n",
    "class RandomTanhModel(RandomModel):\n",
    "    \n",
    "    def __init__(self, n_layers, init_gaussian_mean=0.0):\n",
    "        super().__init__(n_layers, init_gaussian_mean)\n",
    "        \n",
    "    def forward(self, x):\n",
    "        out = x\n",
    "        for layer in self.layers:\n",
    "            out = layer(out)\n",
    "            torch.tanh_(out)\n",
    "            \n",
    "        return self._forward_output_layer(out)\n",
    "        \n",
    "class RandomReluModel(RandomModel):\n",
    "    \n",
    "    def __init__(self, n_layers, init_gaussian_mean=0.0):\n",
    "        super().__init__(n_layers, init_gaussian_mean)\n",
    "        \n",
    "    def forward(self, x):\n",
    "        out = x\n",
    "        for layer in self.layers:\n",
    "            out = layer(out)\n",
    "            torch.relu_(out)\n",
    "            \n",
    "        return self._forward_output_layer(out)"
   ]
  },
  {
   "cell_type": "markdown",
   "metadata": {},
   "source": [
    "### Analyse du modèle"
   ]
  },
  {
   "cell_type": "code",
   "execution_count": 126,
   "metadata": {},
   "outputs": [],
   "source": [
    "# Dataloaders\n",
    "train_loader, valid_loader = train_valid_loaders(dataset, 50)\n",
    "\n",
    "# Paramètres\n",
    "init_gaussian_mean = 0\n",
    "n_layers = 10\n",
    "\n",
    "# Modèles\n",
    "relu_model = RandomReluModel(n_layers, init_gaussian_mean)\n",
    "tanh_model = RandomTanhModel(n_layers, init_gaussian_mean)\n",
    "\n",
    "# Forward pass\n",
    "data, labels = next(iter(train_loader))\n",
    "relu_output = relu_model(data)\n",
    "tanh_output = tanh_model(data)\n",
    "\n",
    "# Calcul de la perte\n",
    "loss = torch.nn.NLLLoss()\n",
    "relu_loss = loss(relu_output, labels)\n",
    "tanh_loss = loss(tanh_output, labels)\n",
    "\n",
    "# Backward\n",
    "relu_loss.backward()\n",
    "tanh_loss.backward()\n",
    "\n",
    "# Calcul des statistiques des gradients\n",
    "relu_model.compute_gradients_stats()\n",
    "tanh_model.compute_gradients_stats()"
   ]
  },
  {
   "cell_type": "markdown",
   "metadata": {},
   "source": [
    "Le graphique suivant représente en fonction du numéro de la couche à gauche la quantité de poids qui ont un gradient nul lors de la backprop, et à droite le gradient moyen sans tenir compte des gradients nuls."
   ]
  },
  {
   "cell_type": "code",
   "execution_count": 127,
   "metadata": {},
   "outputs": [
    {
     "data": {
      "image/png": "[encoded data removed]",
      "text/plain": [
       "<Figure size 1400x400 with 2 Axes>"
      ]
     },
     "metadata": {},
     "output_type": "display_data"
    }
   ],
   "source": [
    "fig, axs = plt.subplots(1, 2, figsize=(14,4))\n",
    "axs[0].plot(np.arange(len(relu_model.nonzero_grad_stats)), [x[0] for x in relu_model.nonzero_grad_stats], label='ReLU')\n",
    "axs[0].plot(np.arange(len(tanh_model.nonzero_grad_stats)), [x[0] for x in tanh_model.nonzero_grad_stats], label='Tanh')\n",
    "axs[0].set_ylim([-1, 50])\n",
    "axs[0].set_xlabel('Index de la couche')\n",
    "axs[0].set_ylabel('Nombre de poids avec un gradient non nul')\n",
    "axs[1].plot(np.arange(len(relu_model.nonzero_grad_stats)), [x[1] / x[0] if x[0] else 0 for x in relu_model.nonzero_grad_stats],label='ReLU')\n",
    "axs[1].plot(np.arange(len(tanh_model.nonzero_grad_stats)), [x[1] / x[0] if x[0] else 0 for x in tanh_model.nonzero_grad_stats],label='Tanh')\n",
    "axs[1].set_xlabel('Index de la couche')\n",
    "axs[1].set_ylabel('Gradient moyen des gradients non nuls')\n",
    "axs[1].legend()\n",
    "plt.tight_layout()\n",
    "plt.show()"
   ]
  },
  {
   "cell_type": "markdown",
   "metadata": {},
   "source": [
    "#### Questions\n",
    "- Observez la distribution du gradient lors de la backprop. Quelles différences y a-t-il entre l'utilisation des activations ReLU versus Tanh?\n",
    "\n",
    "Tanh -> Aucun poids ne devient nul\n",
    "ReLU -> Le nombre de poids nuls devient de plus en plus élévés\n",
    "\n",
    "- Suite à ces observations, identifiez un problème avec la Relu et identifiez un problème avec la Tanh.\n",
    "\n",
    "- Changez la moyenne de la gaussienne des poids lors de l'initialisation (le paramètre *init_gaussian_mean*). Qu'observez-vous?\n",
    "\n",
    "- Est-ce que, pour deux entrées différentes, les mêmes poids ont un gradient nul? "
   ]
  },
  {
   "cell_type": "markdown",
   "metadata": {},
   "source": [
    "### Entraînement\n",
    "Pour terminer, on entraîne les deux modèles avec des fonctions d'activation différentes sur le dataset des spirales."
   ]
  },
  {
   "cell_type": "code",
   "execution_count": null,
   "metadata": {},
   "outputs": [],
   "source": [
    "from torch.optim import SGD\n",
    "\n",
    "init_gaussian_mean = 0\n",
    "n_layers = 10\n",
    "n_epoch = 500\n",
    "relu_losses = []\n",
    "tanh_losses = []\n",
    "\n",
    "relu_model = RandomReluModel(n_layers, init_gaussian_mean)\n",
    "tanh_model = RandomTanhModel(n_layers, init_gaussian_mean)\n",
    "\n",
    "if torch.cuda.is_available():\n",
    "    relu_model.cuda()\n",
    "    tanh_model.cuda()\n",
    "\n",
    "relu_optimizer = SGD(relu_model.parameters(), lr=0.01, momentum=0.9, nesterov=True)\n",
    "tanh_optimizer = SGD(tanh_model.parameters(), lr=0.01, momentum=0.9, nesterov=True)\n",
    "\n",
    "for epoch in range(1, n_epoch + 1):\n",
    "    if epoch % 100 == 0:\n",
    "        print(\"Epoch %d done.\" % epoch)\n",
    "    relu_epoch_losses = []\n",
    "    tanh_epoch_losses = []\n",
    "    for data, labels in train_loader:\n",
    "        relu_optimizer.zero_grad()\n",
    "        tanh_optimizer.zero_grad()\n",
    "        \n",
    "        if torch.cuda.is_available():\n",
    "            data = data.cuda()\n",
    "            labels = labels.cuda()\n",
    "        \n",
    "        relu_loss = loss(relu_model(data), labels)\n",
    "        tanh_loss = loss(tanh_model(data), labels)\n",
    "        \n",
    "        relu_loss.backward()\n",
    "        tanh_loss.backward()\n",
    "        \n",
    "        relu_epoch_losses.append(float(relu_loss.cpu()))\n",
    "        tanh_epoch_losses.append(float(tanh_loss.cpu()))\n",
    "        \n",
    "        relu_optimizer.step()\n",
    "        tanh_optimizer.step()\n",
    "    relu_losses.append(np.mean(np.asarray(relu_epoch_losses)))\n",
    "    tanh_losses.append(np.mean(np.asarray(tanh_epoch_losses)))"
   ]
  },
  {
   "cell_type": "code",
   "execution_count": null,
   "metadata": {},
   "outputs": [],
   "source": [
    "fig, axs = plt.subplots(1, 2, figsize=(14,4))\n",
    "axs[0].plot(np.arange(len(relu_losses)), np.asarray(relu_losses),label='ReLU', color='tab:blue')\n",
    "axs[1].plot(np.arange(len(tanh_losses)), np.asarray(tanh_losses),label='Tanh', color='tab:orange')\n",
    "for i in range(2):\n",
    "    axs[i].set_xlabel('Epoch')\n",
    "    axs[i].set_ylabel('Loss')\n",
    "    axs[i].set_ylim(0, 1)\n",
    "    axs[i].legend()\n",
    "plt.show()"
   ]
  },
  {
   "cell_type": "markdown",
   "metadata": {},
   "source": [
    "## Perte d'entropie croisée (Cross-entropy loss) dans PyTorch\n",
    "\n",
    "**Important à savoir lorsqu'on utilise PyTorch pour un problème de classification**: Dans un contexte de tâche de classification, il est d'usage de transformer les sorties réelles d'un réseau de neurones en une distribution de probabilité sur les classes grâce à la fonction [Softmax](https://pytorch.org/docs/master/generated/torch.nn.Softmax.html?#torch.nn.Softmax). Cette distribution peut ensuite être utilisée pour prédire le ou les classes les plus probables selon la donnée en entrée.\n",
    "\n",
    "Voici un exemple de l'utilisation de la fonction ``F.softmax``, vous pouvez modifier les valeurs de sorties pour voir l'impact sur la distribution de probabilité résultante."
   ]
  },
  {
   "cell_type": "code",
   "execution_count": null,
   "metadata": {},
   "outputs": [],
   "source": [
    "sorties = torch.tensor([1.7, 1.4, -1.3])\n",
    "F.softmax(sorties, dim=-1)"
   ]
  },
  {
   "cell_type": "markdown",
   "metadata": {},
   "source": [
    "Afin d'entraîner un réseau de neurones pour une tâche de classification, on utilise habituellement la fonction de perte d'entropie croisée  [CrossEntropyLoss](https://pytorch.org/docs/master/generated/torch.nn.CrossEntropyLoss.html?#torch.nn.CrossEntropyLoss) qui combine la fonction de [LogSoftmax](https://pytorch.org/docs/master/generated/torch.nn.LogSoftmax.html?#torch.nn.LogSoftmax) avec la fonction de perte *negative log likelihood* [NLLLoss](https://pytorch.org/docs/master/generated/torch.nn.NLLLoss.html?#torch.nn.NLLLoss). La fonction [LogSoftmax](https://pytorch.org/docs/master/generated/torch.nn.LogSoftmax.html?#torch.nn.LogSoftmax) est utilisée au lieu de la fonction [Softmax](https://pytorch.org/docs/master/generated/torch.nn.Softmax.html?#torch.nn.Softmax) pour des raisons de stabilité numérique et de rapidité de calcul.\n",
    "\n",
    "Pour l'entraînement du modèle plus haut dans ce laboratoire, la fonction de perte d'entropie croisée a été calculée en deux étapes avec ``F.log_softmax`` dans la fonction ``_forward_output_layer(x)`` du ``RandomModel``, suivie du calcul de la perte selon les étiquettes avec la fonction ``loss`` définie par ``torch.nn.NLLLoss()``. \n",
    "\n",
    "Pour utiliser directement ``torch.nn.CrossEntropyLoss()``, le modèle devrait retourner simplement les valeurs réelles de sortie sans appliquer de fonction ``Softmax`` ou ``LogSoftmax``. Le résultat de perte est identique dans les deux cas comme le démontre la prochaine cellule:"
   ]
  },
  {
   "cell_type": "code",
   "execution_count": null,
   "metadata": {},
   "outputs": [],
   "source": [
    "# Scores d'un réseau de neurones pour 2 exemples d'une tâche à 3 classes avec les étiquettes correspondantes\n",
    "scores = torch.tensor([[1.7, 1.4, -1.3], [0.4, 1.8, 0.9]])\n",
    "labels = torch.tensor([0, 2])\n",
    "\n",
    "# CrossEntropyLoss\n",
    "loss = torch.nn.CrossEntropyLoss()\n",
    "print(f\"Perte avec CrossEntropyLoss: {loss(scores, labels):.3f}\")\n",
    "\n",
    "# LogSoftmax et NLLLoss\n",
    "loss = torch.nn.NLLLoss()\n",
    "print(f\"Perte avec LogSoftmax et NLLLoss: {loss(F.log_softmax(scores, dim=1), labels):.3f}\")"
   ]
  },
  {
   "cell_type": "markdown",
   "metadata": {},
   "source": [
    "Dans la librairie deeplib écrite spécialement pour les laboratoires, la fonction ``deeplib.training.train()`` utilise par défaut ``torch.nn.CrossEntropyLoss()``. Par conséquent, les modèles doivent simplement retourner les sorties réelles du réseau de neurones pour pouvoir s'entraîner correctement avec cette fonction ``train()``."
   ]
  }
 ],
 "metadata": {
  "accelerator": "GPU",
  "kernelspec": {
   "display_name": "Python 3",
   "language": "python",
   "name": "python3"
  },
  "language_info": {
   "codemirror_mode": {
    "name": "ipython",
    "version": 3
   },
   "file_extension": ".py",
   "mimetype": "text/x-python",
   "name": "python",
   "nbconvert_exporter": "python",
   "pygments_lexer": "ipython3",
   "version": "3.10.12"
  }
 },
 "nbformat": 4,
 "nbformat_minor": 2
}
